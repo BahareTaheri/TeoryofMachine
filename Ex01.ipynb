{
  "cells": [
    {
      "cell_type": "markdown",
      "metadata": {
        "id": "view-in-github",
        "colab_type": "text"
      },
      "source": [
        "<a href=\"https://colab.research.google.com/github/bhrthri/TeoryofMachine/blob/main/Ex01.ipynb\" target=\"_parent\"><img src=\"https://colab.research.google.com/assets/colab-badge.svg\" alt=\"Open In Colab\"/></a>"
      ]
    },
    {
      "cell_type": "code",
      "execution_count": null,
      "metadata": {
        "colab": {
          "background_save": true,
          "base_uri": "https://localhost:8080/"
        },
        "id": "zG5xrFK7MYe1",
        "outputId": "3c5ad944-d365-4174-891a-8446ff6e503d"
      },
      "outputs": [
        {
          "name": "stdout",
          "output_type": "stream",
          "text": [
            "welcome to my calculator\n",
            "log\n",
            "sin\n",
            "+\n",
            "-\n",
            "/\n",
            "fact\n",
            "tan\n",
            "cot\n",
            "sqrt\n",
            "power\n",
            "exit\n",
            "result is : 0.8509035245341184\n",
            "-------------------\n",
            "welcome to my calculator\n",
            "log\n",
            "sin\n",
            "+\n",
            "-\n",
            "/\n",
            "fact\n",
            "tan\n",
            "cot\n",
            "sqrt\n",
            "power\n",
            "exit\n"
          ]
        }
      ],
      "source": [
        "#Bahare_th#Ex01\n",
        "#Calculator\n",
        "import math\n",
        "\n",
        "list = ['sin', 'log','fact','tan','cot','sqrt']\n",
        "\n",
        "while True: \n",
        "  #calculator option\n",
        "  print(\"welcome to my calculator\")\n",
        "  print(\"log\") \n",
        "  print(\"sin\") \n",
        "  print(\"+\")  \n",
        "  print(\"-\")  \n",
        "  print(\"/\")  \n",
        "  print(\"fact\")\n",
        "  print(\"tan\") \n",
        "  print(\"cot\")\n",
        "  print(\"sqrt\") \n",
        "  print(\"power\") \n",
        "  print(\"exit\") \n",
        "\n",
        "  #input options\n",
        "  #input number\n",
        "  operator = input(\"choose operator: \")\n",
        "  if operator in list:\n",
        "    a = float(input(\"Enter A: \"))\n",
        "  else:\n",
        "    a = float(input(\"Enter A: \"))\n",
        "    b = float(input(\"Enter B: \"))\n",
        " \n",
        "#claculate plus\n",
        "  if operator == \"+\":\n",
        "    result = a + b\n",
        "\n",
        "#claculate  minus  \n",
        "  elif operator == \"-\":\n",
        "    result = a - b\n",
        "\n",
        "#claculate multiple\n",
        "  elif operator ==\"*\":\n",
        "    result = a * b\n",
        "\n",
        "#claculate divide\n",
        "  elif operator == \"/\":\n",
        "    if b == 0:\n",
        "      result = \"Cannot divide by zero\"\n",
        "    else:\n",
        "      result = a / b\n",
        "\n",
        "#calculate power\n",
        "  elif operator == \"**\" or operator == \"^\":\n",
        "    result = math.pow(a,b)\n",
        "\n",
        "#calculate sin\n",
        "  elif operator == \"sin\":\n",
        "    result = math.sin(a)\n",
        "  \n",
        "#calculate log\n",
        "  elif operator == \"log\":\n",
        "    result = math.log2(a)\n",
        "\n",
        "#calculate factorial\n",
        "  elif operator == \"fact\":\n",
        "    result = math.factorial(a)\n",
        "  \n",
        "#calculate tan\n",
        "  elif operator == \"tan\":\n",
        "    result = math.tan(a)\n",
        "\n",
        "#calculate sqrt\n",
        "  elif operator == \"sqrt\":\n",
        "    result = math.sqrt(a)\n",
        "\n",
        "#calculate cot\n",
        "  elif operator == \"cot\":\n",
        "    x = math.radians(a)\n",
        "    result = math.cos(x)/ math.sin(x)\n",
        "\n",
        "\n",
        "#print result\n",
        "  print(\"result is :\",result)\n",
        "  print(\"-------------------\")\n",
        "  \n",
        " "
      ]
    }
  ],
  "metadata": {
    "colab": {
      "collapsed_sections": [],
      "name": "Ex01.ipynb",
      "provenance": [],
      "authorship_tag": "ABX9TyNSaYIXgxIg7V8ovrB5tTLf",
      "include_colab_link": true
    },
    "kernelspec": {
      "display_name": "Python 3",
      "name": "python3"
    },
    "language_info": {
      "name": "python"
    }
  },
  "nbformat": 4,
  "nbformat_minor": 0
}