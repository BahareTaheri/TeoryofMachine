{
  "nbformat": 4,
  "nbformat_minor": 0,
  "metadata": {
    "colab": {
      "name": "EX02.ipynb",
      "provenance": [],
      "collapsed_sections": [],
      "authorship_tag": "ABX9TyO4WktavRDtYTc5KDVKKdkg",
      "include_colab_link": true
    },
    "kernelspec": {
      "name": "python3",
      "display_name": "Python 3"
    },
    "language_info": {
      "name": "python"
    }
  },
  "cells": [
    {
      "cell_type": "markdown",
      "metadata": {
        "id": "view-in-github",
        "colab_type": "text"
      },
      "source": [
        "<a href=\"https://colab.research.google.com/github/bhrthri/TeoryofMachine/blob/main/EX02.ipynb\" target=\"_parent\"><img src=\"https://colab.research.google.com/assets/colab-badge.svg\" alt=\"Open In Colab\"/></a>"
      ]
    },
    {
      "cell_type": "code",
      "execution_count": 5,
      "metadata": {
        "colab": {
          "base_uri": "https://localhost:8080/"
        },
        "id": "HaMlFVAmdbFz",
        "outputId": "70794ed1-cb8d-4db6-b68f-d19f6ed24738"
      },
      "outputs": [
        {
          "output_type": "stream",
          "name": "stdout",
          "text": [
            "what is your guess?100\n",
            "choose lower\n",
            "what is your guess?50\n",
            "choose lower\n",
            "what is your guess?40\n",
            "choose lower\n",
            "what is your guess?30\n",
            "choose lower\n",
            "what is your guess?20\n",
            "choose lower\n",
            "what is your guess?10\n",
            "choose lower\n",
            "what is your guess?1\n",
            "choose greater\n",
            "what is your guess?5\n",
            "choose greater\n",
            "what is your guess?9\n",
            "choose lower\n",
            "what is your guess?8\n",
            "choose lower\n",
            "what is your guess?7\n",
            "You win!!!\n",
            "Your Try is 11\n"
          ]
        }
      ],
      "source": [
        "#Bahare_th#EX02#GuessNumberGame\n",
        "import random\n",
        "\n",
        "count = 1\n",
        "number = random.randint(1,100)\n",
        "guess = int (input(\"what is your guess?\"))\n",
        "\n",
        "\n",
        "while guess != number:\n",
        "  if guess > number:\n",
        "    count +=1\n",
        "    print(\"choose lower\")\n",
        "  else: \n",
        "    count +=1\n",
        "    print(\"choose greater\")\n",
        "  guess = int (input(\"what is your guess?\"))\n",
        "  \n",
        "print(\"You win!!!\")\n",
        "print(\"Your Try is\", count)\n"
      ]
    }
  ]
}